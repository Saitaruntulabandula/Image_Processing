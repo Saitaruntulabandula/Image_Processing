{
 "cells": [
  {
   "cell_type": "markdown",
   "id": "c5b8e937",
   "metadata": {},
   "source": [
    "# Impoting Libraries"
   ]
  },
  {
   "cell_type": "code",
   "execution_count": 1,
   "id": "bb5f98f5",
   "metadata": {},
   "outputs": [],
   "source": [
    "from PIL import Image"
   ]
  },
  {
   "cell_type": "code",
   "execution_count": 23,
   "id": "e1c6d64b",
   "metadata": {},
   "outputs": [],
   "source": [
    "img=Image.open(\"Image.jpg\")                              #Opening Image."
   ]
  },
  {
   "cell_type": "code",
   "execution_count": 10,
   "id": "286dfd33",
   "metadata": {},
   "outputs": [
    {
     "name": "stdout",
     "output_type": "stream",
     "text": [
      "<class 'PIL.JpegImagePlugin.JpegImageFile'>\n"
     ]
    }
   ],
   "source": [
    "print(type(img))                                         #Image type."
   ]
  },
  {
   "cell_type": "code",
   "execution_count": 11,
   "id": "55d10ba0",
   "metadata": {},
   "outputs": [
    {
     "name": "stdout",
     "output_type": "stream",
     "text": [
      "JPEG\n"
     ]
    }
   ],
   "source": [
    "print(img.format)                                        #Image Format."
   ]
  },
  {
   "cell_type": "code",
   "execution_count": 12,
   "id": "16f0e590",
   "metadata": {},
   "outputs": [
    {
     "name": "stdout",
     "output_type": "stream",
     "text": [
      "RGB\n"
     ]
    }
   ],
   "source": [
    "print(img.mode)                                          #Image Mode."
   ]
  },
  {
   "cell_type": "markdown",
   "id": "c75ca624",
   "metadata": {},
   "source": [
    "# Resizing"
   ]
  },
  {
   "cell_type": "code",
   "execution_count": 13,
   "id": "6edf8fa5",
   "metadata": {},
   "outputs": [
    {
     "name": "stdout",
     "output_type": "stream",
     "text": [
      "(240, 320)\n"
     ]
    }
   ],
   "source": [
    "print(img.size)                                          #Image Size."
   ]
  },
  {
   "cell_type": "code",
   "execution_count": 14,
   "id": "3fe9bf37",
   "metadata": {},
   "outputs": [],
   "source": [
    "small_img=img.resize((120,160))                          #Resizing Image(Without Aspect Ratio)"
   ]
  },
  {
   "cell_type": "code",
   "execution_count": 15,
   "id": "c429c553",
   "metadata": {},
   "outputs": [],
   "source": [
    "small_img.save(\"Small Image.jpg\")"
   ]
  },
  {
   "cell_type": "code",
   "execution_count": 16,
   "id": "fa65c7eb",
   "metadata": {},
   "outputs": [],
   "source": [
    "img=Image.open(\"Small Image.jpg\")                        #Opening Image."
   ]
  },
  {
   "cell_type": "code",
   "execution_count": 17,
   "id": "63cb9b6c",
   "metadata": {},
   "outputs": [
    {
     "name": "stdout",
     "output_type": "stream",
     "text": [
      "(120, 160)\n"
     ]
    }
   ],
   "source": [
    "print(img.size)                                          #Image Size."
   ]
  },
  {
   "cell_type": "code",
   "execution_count": 18,
   "id": "b0687ba9",
   "metadata": {},
   "outputs": [],
   "source": [
    "img.thumbnail((120,160))                                 #Resizing with Aspect Ratio."
   ]
  },
  {
   "cell_type": "code",
   "execution_count": 19,
   "id": "2f2dbb75",
   "metadata": {},
   "outputs": [],
   "source": [
    "img.save(\"Small Image with Aspectratio.jpg\")"
   ]
  },
  {
   "cell_type": "code",
   "execution_count": 20,
   "id": "8b56ea66",
   "metadata": {},
   "outputs": [],
   "source": [
    "img.thumbnail((480,640))                                 #Resizing with Aspect Ratio."
   ]
  },
  {
   "cell_type": "code",
   "execution_count": 21,
   "id": "42449603",
   "metadata": {},
   "outputs": [],
   "source": [
    "img.save(\"Large Image with Aspectratio.jpg\")"
   ]
  },
  {
   "cell_type": "markdown",
   "id": "e997bbb1",
   "metadata": {},
   "source": [
    "# Cropping"
   ]
  },
  {
   "cell_type": "code",
   "execution_count": 6,
   "id": "bd6a427d",
   "metadata": {},
   "outputs": [
    {
     "name": "stdout",
     "output_type": "stream",
     "text": [
      "(240, 320)\n"
     ]
    }
   ],
   "source": [
    "print(img.size) "
   ]
  },
  {
   "cell_type": "code",
   "execution_count": 7,
   "id": "0b35e3fa",
   "metadata": {},
   "outputs": [],
   "source": [
    "cropped_img=img.crop((0,0,200,200))"
   ]
  },
  {
   "cell_type": "code",
   "execution_count": 8,
   "id": "b625a522",
   "metadata": {},
   "outputs": [],
   "source": [
    "cropped_img.save(\"Cropped Image.jpg\")"
   ]
  },
  {
   "cell_type": "markdown",
   "id": "5a8ac730",
   "metadata": {},
   "source": [
    "# Copying "
   ]
  },
  {
   "cell_type": "code",
   "execution_count": 9,
   "id": "7819bd4d",
   "metadata": {},
   "outputs": [],
   "source": [
    "img_copy=img.copy()"
   ]
  },
  {
   "cell_type": "code",
   "execution_count": 10,
   "id": "465bd347",
   "metadata": {},
   "outputs": [],
   "source": [
    "img_copy.paste(cropped_img,(100,100))"
   ]
  },
  {
   "cell_type": "code",
   "execution_count": 12,
   "id": "c644530d",
   "metadata": {},
   "outputs": [],
   "source": [
    "img_copy.save(\"Copied Image.jpg\")"
   ]
  },
  {
   "cell_type": "markdown",
   "id": "07e6f0b6",
   "metadata": {},
   "source": [
    "# Rotation"
   ]
  },
  {
   "cell_type": "code",
   "execution_count": 13,
   "id": "1b736e66",
   "metadata": {},
   "outputs": [],
   "source": [
    "img_rotate=img.rotate(90)"
   ]
  },
  {
   "cell_type": "code",
   "execution_count": 14,
   "id": "e163489f",
   "metadata": {},
   "outputs": [],
   "source": [
    "img_rotate.save(\"Rotated Image.jpg\")"
   ]
  },
  {
   "cell_type": "code",
   "execution_count": 15,
   "id": "27c24bef",
   "metadata": {},
   "outputs": [],
   "source": [
    "img_rotate=img.rotate(45)"
   ]
  },
  {
   "cell_type": "code",
   "execution_count": 16,
   "id": "ef221cd2",
   "metadata": {},
   "outputs": [],
   "source": [
    "img_rotate.save(\"Rotated Image1.jpg\") #we lost some data due to edges."
   ]
  },
  {
   "cell_type": "code",
   "execution_count": 17,
   "id": "c2a445d3",
   "metadata": {},
   "outputs": [],
   "source": [
    "img_rotate=img.rotate(45,expand=True)"
   ]
  },
  {
   "cell_type": "code",
   "execution_count": 18,
   "id": "07e8ebf9",
   "metadata": {},
   "outputs": [],
   "source": [
    "img_rotate.save(\"Rotated Image2.jpg\")"
   ]
  },
  {
   "cell_type": "markdown",
   "id": "af30a1c2",
   "metadata": {},
   "source": [
    "# Flip"
   ]
  },
  {
   "cell_type": "code",
   "execution_count": 19,
   "id": "1d2f9f2d",
   "metadata": {},
   "outputs": [],
   "source": [
    "img_flipLR=img.transpose(Image.FLIP_LEFT_RIGHT)"
   ]
  },
  {
   "cell_type": "code",
   "execution_count": 20,
   "id": "633390e8",
   "metadata": {},
   "outputs": [],
   "source": [
    "img_flipLR.save(\"FlippedLR.jpg\")"
   ]
  },
  {
   "cell_type": "code",
   "execution_count": 24,
   "id": "aa19a1d0",
   "metadata": {},
   "outputs": [],
   "source": [
    "img_flipTB=img.transpose(Image.FLIP_TOP_BOTTOM)"
   ]
  },
  {
   "cell_type": "code",
   "execution_count": 26,
   "id": "081edf04",
   "metadata": {},
   "outputs": [],
   "source": [
    "img_flipTB.save(\"FlippedTB.jpg\")"
   ]
  },
  {
   "cell_type": "markdown",
   "id": "7b29e375",
   "metadata": {},
   "source": [
    "# Gray Scale"
   ]
  },
  {
   "cell_type": "code",
   "execution_count": 27,
   "id": "d418abfb",
   "metadata": {},
   "outputs": [],
   "source": [
    "grey_img=img.convert(\"L\")"
   ]
  },
  {
   "cell_type": "code",
   "execution_count": 28,
   "id": "87b35580",
   "metadata": {},
   "outputs": [],
   "source": [
    "grey_img.save(\"Gray_img.jpg\")"
   ]
  },
  {
   "cell_type": "markdown",
   "id": "e1cfe421",
   "metadata": {},
   "source": [
    "# RGB"
   ]
  },
  {
   "cell_type": "code",
   "execution_count": 35,
   "id": "03e4a8fd",
   "metadata": {},
   "outputs": [],
   "source": [
    "img=Image.open(\"Gray_img.jpg\")                              #Opening Image."
   ]
  },
  {
   "cell_type": "code",
   "execution_count": 36,
   "id": "183f9212",
   "metadata": {},
   "outputs": [],
   "source": [
    "rgb_img=img.convert(\"RGB\")"
   ]
  },
  {
   "cell_type": "code",
   "execution_count": 37,
   "id": "583edd63",
   "metadata": {},
   "outputs": [],
   "source": [
    "rgb_img.save(\"RGB_img.jpg\")"
   ]
  },
  {
   "cell_type": "code",
   "execution_count": null,
   "id": "b9f339ff",
   "metadata": {},
   "outputs": [],
   "source": []
  }
 ],
 "metadata": {
  "kernelspec": {
   "display_name": "Python 3 (ipykernel)",
   "language": "python",
   "name": "python3"
  },
  "language_info": {
   "codemirror_mode": {
    "name": "ipython",
    "version": 3
   },
   "file_extension": ".py",
   "mimetype": "text/x-python",
   "name": "python",
   "nbconvert_exporter": "python",
   "pygments_lexer": "ipython3",
   "version": "3.9.7"
  }
 },
 "nbformat": 4,
 "nbformat_minor": 5
}
